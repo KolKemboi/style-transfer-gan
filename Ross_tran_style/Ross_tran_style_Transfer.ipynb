{
 "cells": [
  {
   "cell_type": "markdown",
   "id": "3799b6cf-fd87-4a5a-85c0-0c8e13b6728d",
   "metadata": {},
   "source": [
    "Being one of Ross Tran's biggest fans, I decided to use his art style in this style transfer gan to style up Angelina Jolie's image. Do follow Ross Tran and all appreciation to his art"
   ]
  },
  {
   "cell_type": "code",
   "execution_count": null,
   "id": "15c25f84-041d-4b96-afe7-f22c83addc00",
   "metadata": {},
   "outputs": [],
   "source": [
    "import tensorflow as tf\n",
    "import tensfl"
   ]
  }
 ],
 "metadata": {
  "kernelspec": {
   "display_name": "Python 3 (ipykernel)",
   "language": "python",
   "name": "python3"
  },
  "language_info": {
   "codemirror_mode": {
    "name": "ipython",
    "version": 3
   },
   "file_extension": ".py",
   "mimetype": "text/x-python",
   "name": "python",
   "nbconvert_exporter": "python",
   "pygments_lexer": "ipython3",
   "version": "3.11.3"
  }
 },
 "nbformat": 4,
 "nbformat_minor": 5
}
